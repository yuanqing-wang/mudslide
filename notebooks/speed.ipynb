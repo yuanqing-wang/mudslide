{
 "cells": [
  {
   "cell_type": "code",
   "execution_count": 7,
   "metadata": {},
   "outputs": [],
   "source": [
    "import sys\n",
    "sys.path.append('/Users/yuanqingwang/Documents/GitHub/mudslide/')"
   ]
  },
  {
   "cell_type": "code",
   "execution_count": 8,
   "metadata": {},
   "outputs": [],
   "source": [
    "import mudslide"
   ]
  },
  {
   "cell_type": "code",
   "execution_count": 9,
   "metadata": {},
   "outputs": [],
   "source": [
    "import openmm as mm\n",
    "import numpy as onp\n",
    "import jax\n",
    "import jax.numpy as jnp"
   ]
  },
  {
   "cell_type": "code",
   "execution_count": 10,
   "metadata": {},
   "outputs": [
    {
     "data": {
      "text/plain": [
       "0"
      ]
     },
     "execution_count": 10,
     "metadata": {},
     "output_type": "execute_result"
    }
   ],
   "source": [
    "\n",
    "openmm_system = mm.System()\n",
    "openmm_system.addParticle(1.0)\n",
    "openmm_system.addParticle(1.0)\n",
    "force = mm.HarmonicBondForce()\n",
    "force.addBond(0, 1.0, 0.0, 1.0)\n",
    "openmm_system.addForce(force)"
   ]
  },
  {
   "cell_type": "code",
   "execution_count": 11,
   "metadata": {},
   "outputs": [],
   "source": [
    "X = onp.random.randn(2, 3)\n",
    "V = onp.random.randn(2, 3)"
   ]
  },
  {
   "cell_type": "code",
   "execution_count": 35,
   "metadata": {},
   "outputs": [],
   "source": [
    "from openmmtools.integrators import VelocityVerletIntegrator\n",
    "integrator = VelocityVerletIntegrator(0.1 * mm.unit.picosecond)\n",
    "context = mm.Context(openmm_system, integrator)\n",
    "context.setPositions(X * mm.unit.nanometer)\n",
    "context.setVelocities(V * mm.unit.nanometer/mm.unit.picosecond)"
   ]
  },
  {
   "cell_type": "code",
   "execution_count": 36,
   "metadata": {},
   "outputs": [
    {
     "name": "stdout",
     "output_type": "stream",
     "text": [
      "2.15 ms ± 76.3 μs per loop (mean ± std. dev. of 7 runs, 100 loops each)\n"
     ]
    }
   ],
   "source": [
    "%%timeit\n",
    "integrator.step(100)"
   ]
  },
  {
   "cell_type": "code",
   "execution_count": 32,
   "metadata": {},
   "outputs": [],
   "source": [
    "from mudslide.integrators.velocity_verlet import VelocityVerletIntegrator\n",
    "from mudslide.system import System\n",
    "from mudslide.state import State\n",
    "from mudslide.forces.harmonic_bond_force import HarmonicBondForce\n",
    "force = HarmonicBondForce(\n",
    "    particle1=jnp.array([0]), \n",
    "    particle2=jnp.array([1]), \n",
    "    length=jnp.array([0.0]), \n",
    "    k=jnp.array([1.0]),\n",
    ")\n",
    "system = System(masses=jnp.array([1.0, 1.0]), forces=[force])\n",
    "integrator = VelocityVerletIntegrator(timestep=0.1)\n",
    "integrate = jax.jit(lambda state: integrator(100, state, system, key=jax.random.PRNGKey(0)))"
   ]
  },
  {
   "cell_type": "code",
   "execution_count": 33,
   "metadata": {},
   "outputs": [
    {
     "name": "stdout",
     "output_type": "stream",
     "text": [
      "61.1 μs ± 6.04 μs per loop (mean ± std. dev. of 7 runs, 10,000 loops each)\n"
     ]
    }
   ],
   "source": [
    "%%timeit\n",
    "state = State(jnp.array(X), jnp.array(V))\n",
    "state = integrate(state)\n",
    "jax.block_until_ready(state)"
   ]
  },
  {
   "cell_type": "code",
   "execution_count": null,
   "metadata": {},
   "outputs": [],
   "source": []
  }
 ],
 "metadata": {
  "kernelspec": {
   "display_name": "mudslide",
   "language": "python",
   "name": "python3"
  },
  "language_info": {
   "codemirror_mode": {
    "name": "ipython",
    "version": 3
   },
   "file_extension": ".py",
   "mimetype": "text/x-python",
   "name": "python",
   "nbconvert_exporter": "python",
   "pygments_lexer": "ipython3",
   "version": "3.12.4"
  }
 },
 "nbformat": 4,
 "nbformat_minor": 2
}
