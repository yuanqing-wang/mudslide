{
 "cells": [
  {
   "cell_type": "code",
   "execution_count": 1,
   "metadata": {},
   "outputs": [],
   "source": [
    "import sys\n",
    "sys.path.append('/Users/yuanqingwang/Documents/GitHub/mudslide/')"
   ]
  },
  {
   "cell_type": "code",
   "execution_count": 2,
   "metadata": {},
   "outputs": [],
   "source": [
    "import openmm as mm\n",
    "import numpy as onp\n",
    "import jax\n",
    "import jax.numpy as jnp"
   ]
  },
  {
   "cell_type": "code",
   "execution_count": 5,
   "metadata": {},
   "outputs": [
    {
     "ename": "AttributeError",
     "evalue": "'Context' object has no attribute 'getVelocities'",
     "output_type": "error",
     "traceback": [
      "\u001b[0;31m---------------------------------------------------------------------------\u001b[0m",
      "\u001b[0;31mAttributeError\u001b[0m                            Traceback (most recent call last)",
      "Cell \u001b[0;32mIn[5], line 20\u001b[0m\n\u001b[1;32m     18\u001b[0m simulation\u001b[38;5;241m.\u001b[39mcontext\u001b[38;5;241m.\u001b[39msetPositions(X)\n\u001b[1;32m     19\u001b[0m simulation\u001b[38;5;241m.\u001b[39mcontext\u001b[38;5;241m.\u001b[39msetVelocitiesToTemperature(\u001b[38;5;241m300.0\u001b[39m)\n\u001b[0;32m---> 20\u001b[0m V \u001b[38;5;241m=\u001b[39m \u001b[43msimulation\u001b[49m\u001b[38;5;241;43m.\u001b[39;49m\u001b[43mcontext\u001b[49m\u001b[38;5;241;43m.\u001b[39;49m\u001b[43mgetVelocities\u001b[49m(asNumpy\u001b[38;5;241m=\u001b[39m\u001b[38;5;28;01mTrue\u001b[39;00m)\u001b[38;5;241m.\u001b[39mvalue_in_unit(off_unit\u001b[38;5;241m.\u001b[39mnanometers\u001b[38;5;241m/\u001b[39moff_unit\u001b[38;5;241m.\u001b[39mpicoseconds)\n",
      "\u001b[0;31mAttributeError\u001b[0m: 'Context' object has no attribute 'getVelocities'"
     ]
    }
   ],
   "source": [
    "from openff.toolkit.topology import Molecule\n",
    "from openff.toolkit.typing.engines.smirnoff import ForceField\n",
    "from openmmtools.integrators import VelocityVerletIntegrator\n",
    "\n",
    "ff = ForceField(\"openff-2.0.0.offxml\")\n",
    "molecule = Molecule.from_smiles(\"Cn1cnc2c1c(=O)n(C)c(=O)n2C\")\n",
    "# molecule = Molecule.from_smiles(\"CCO\")\n",
    "molecule.generate_conformers(n_conformers=1)\n",
    "\n",
    "mm_system = ff.create_openmm_system(molecule.to_topology())\n",
    "\n",
    "from openmmtools.integrators import DummyIntegrator\n",
    "from openff.units import unit as off_unit\n",
    "X = (molecule.conformers[0] / off_unit.nanometers).magnitude\n",
    "\n",
    "integrator = VelocityVerletIntegrator(0.01)\n",
    "simulation = mm.app.Simulation(molecule.to_topology().to_openmm(), mm_system, integrator)\n",
    "simulation.context.setPositions(X)\n",
    "simulation.context.setVelocitiesToTemperature(300.0)\n",
    "V = simulation.context.getVelocities(asNumpy=True).value_in_unit(off_unit.nanometers/off_unit.picoseconds) "
   ]
  },
  {
   "cell_type": "code",
   "execution_count": 4,
   "metadata": {},
   "outputs": [
    {
     "name": "stderr",
     "output_type": "stream",
     "text": [
      "/Users/yuanqingwang/Documents/GitHub/mudslide/mudslide/forces/harmonic_bond_force.py:21: UserWarning: Explicitly requested dtype <class 'jax.numpy.float64'> requested in array is not available, and will be truncated to dtype float32. To enable more dtypes, set the jax_enable_x64 configuration option or the JAX_ENABLE_X64 shell environment variable. See https://github.com/google/jax#current-gotchas for more.\n",
      "  length = jnp.array([], dtype=jnp.float64)\n",
      "/Users/yuanqingwang/Documents/GitHub/mudslide/mudslide/forces/harmonic_bond_force.py:24: UserWarning: Explicitly requested dtype <class 'jax.numpy.float64'> requested in array is not available, and will be truncated to dtype float32. To enable more dtypes, set the jax_enable_x64 configuration option or the JAX_ENABLE_X64 shell environment variable. See https://github.com/google/jax#current-gotchas for more.\n",
      "  k = jnp.array([], dtype=jnp.float64)\n",
      "/Users/yuanqingwang/Documents/GitHub/mudslide/mudslide/forces/harmonic_angle_force.py:26: UserWarning: Explicitly requested dtype <class 'jax.numpy.float64'> requested in array is not available, and will be truncated to dtype float32. To enable more dtypes, set the jax_enable_x64 configuration option or the JAX_ENABLE_X64 shell environment variable. See https://github.com/google/jax#current-gotchas for more.\n",
      "  angle = jnp.array([], dtype=jnp.float64)\n",
      "/Users/yuanqingwang/Documents/GitHub/mudslide/mudslide/forces/harmonic_angle_force.py:29: UserWarning: Explicitly requested dtype <class 'jax.numpy.float64'> requested in array is not available, and will be truncated to dtype float32. To enable more dtypes, set the jax_enable_x64 configuration option or the JAX_ENABLE_X64 shell environment variable. See https://github.com/google/jax#current-gotchas for more.\n",
      "  k = jnp.array([], dtype=jnp.float64)\n",
      "/Users/yuanqingwang/Documents/GitHub/mudslide/mudslide/forces/periodic_torsion_force.py:31: UserWarning: Explicitly requested dtype <class 'jax.numpy.float64'> requested in array is not available, and will be truncated to dtype float32. To enable more dtypes, set the jax_enable_x64 configuration option or the JAX_ENABLE_X64 shell environment variable. See https://github.com/google/jax#current-gotchas for more.\n",
      "  phase = jnp.array([], dtype=jnp.float64)\n",
      "/Users/yuanqingwang/Documents/GitHub/mudslide/mudslide/forces/periodic_torsion_force.py:34: UserWarning: Explicitly requested dtype <class 'jax.numpy.float64'> requested in array is not available, and will be truncated to dtype float32. To enable more dtypes, set the jax_enable_x64 configuration option or the JAX_ENABLE_X64 shell environment variable. See https://github.com/google/jax#current-gotchas for more.\n",
      "  k = jnp.array([], dtype=jnp.float64)\n",
      "/Users/yuanqingwang/Documents/GitHub/mudslide/mudslide/system.py:16: UserWarning: Explicitly requested dtype <class 'jax.numpy.float64'> requested in array is not available, and will be truncated to dtype float32. To enable more dtypes, set the jax_enable_x64 configuration option or the JAX_ENABLE_X64 shell environment variable. See https://github.com/google/jax#current-gotchas for more.\n",
      "  forces = jax.numpy.array([], dtype=jax.numpy.float64)\n",
      "/Users/yuanqingwang/Documents/GitHub/mudslide/mudslide/forces/periodic_torsion_force.py:74: UserWarning: Explicitly requested dtype <class 'jax.numpy.float64'> requested in array is not available, and will be truncated to dtype float32. To enable more dtypes, set the jax_enable_x64 configuration option or the JAX_ENABLE_X64 shell environment variable. See https://github.com/google/jax#current-gotchas for more.\n",
      "  phase=jnp.array(phase, dtype=jnp.float64),\n",
      "/Users/yuanqingwang/Documents/GitHub/mudslide/mudslide/forces/periodic_torsion_force.py:75: UserWarning: Explicitly requested dtype <class 'jax.numpy.float64'> requested in array is not available, and will be truncated to dtype float32. To enable more dtypes, set the jax_enable_x64 configuration option or the JAX_ENABLE_X64 shell environment variable. See https://github.com/google/jax#current-gotchas for more.\n",
      "  k=jnp.array(k, dtype=jnp.float64),\n",
      "/Users/yuanqingwang/Documents/GitHub/mudslide/mudslide/forces/harmonic_angle_force.py:48: UserWarning: Explicitly requested dtype <class 'jax.numpy.float64'> requested in array is not available, and will be truncated to dtype float32. To enable more dtypes, set the jax_enable_x64 configuration option or the JAX_ENABLE_X64 shell environment variable. See https://github.com/google/jax#current-gotchas for more.\n",
      "  angle=jnp.array(angle, dtype=jnp.float64),\n",
      "/Users/yuanqingwang/Documents/GitHub/mudslide/mudslide/forces/harmonic_angle_force.py:49: UserWarning: Explicitly requested dtype <class 'jax.numpy.float64'> requested in array is not available, and will be truncated to dtype float32. To enable more dtypes, set the jax_enable_x64 configuration option or the JAX_ENABLE_X64 shell environment variable. See https://github.com/google/jax#current-gotchas for more.\n",
      "  k=jnp.array(k, dtype=jnp.float64),\n",
      "/Users/yuanqingwang/Documents/GitHub/mudslide/mudslide/forces/harmonic_bond_force.py:39: UserWarning: Explicitly requested dtype <class 'jax.numpy.float64'> requested in array is not available, and will be truncated to dtype float32. To enable more dtypes, set the jax_enable_x64 configuration option or the JAX_ENABLE_X64 shell environment variable. See https://github.com/google/jax#current-gotchas for more.\n",
      "  length=jnp.array(length, dtype=jnp.float64),\n",
      "/Users/yuanqingwang/Documents/GitHub/mudslide/mudslide/forces/harmonic_bond_force.py:40: UserWarning: Explicitly requested dtype <class 'jax.numpy.float64'> requested in array is not available, and will be truncated to dtype float32. To enable more dtypes, set the jax_enable_x64 configuration option or the JAX_ENABLE_X64 shell environment variable. See https://github.com/google/jax#current-gotchas for more.\n",
      "  k=jnp.array(k, dtype=jnp.float64),\n",
      "/Users/yuanqingwang/Documents/GitHub/mudslide/mudslide/system.py:43: UserWarning: Explicitly requested dtype <class 'jax.numpy.float64'> requested in array is not available, and will be truncated to dtype float32. To enable more dtypes, set the jax_enable_x64 configuration option or the JAX_ENABLE_X64 shell environment variable. See https://github.com/google/jax#current-gotchas for more.\n",
      "  return cls(masses=jax.numpy.array(masses, dtype=jax.numpy.float64), forces=forces)\n"
     ]
    }
   ],
   "source": [
    "import mudslide as md\n",
    "from mudslide.system import System\n",
    "md_system = System.from_openmm(mm_system)\n",
    "from mudslide.integrators import VelocityVerletIntegrator as MDVelocityVerletIntegrator\n",
    "integrator = VelocityVerletIntegrator(timestep=0.1)\n",
    "integrate = jax.jit(lambda state: integrator(100, state, md_system, key=jax.random.PRNGKey(0)))"
   ]
  },
  {
   "cell_type": "code",
   "execution_count": 35,
   "metadata": {},
   "outputs": [],
   "source": [
    "from openmmtools.integrators import VelocityVerletIntegrator\n",
    "integrator = VelocityVerletIntegrator(0.1 * mm.unit.picosecond)\n",
    "context = mm.Context(openmm_system, integrator)\n",
    "context.setPositions(X * mm.unit.nanometer)\n",
    "context.setVelocities(V * mm.unit.nanometer/mm.unit.picosecond)"
   ]
  },
  {
   "cell_type": "code",
   "execution_count": 36,
   "metadata": {},
   "outputs": [
    {
     "name": "stdout",
     "output_type": "stream",
     "text": [
      "2.15 ms ± 76.3 μs per loop (mean ± std. dev. of 7 runs, 100 loops each)\n"
     ]
    }
   ],
   "source": [
    "%%timeit\n",
    "integrator.step(100)"
   ]
  },
  {
   "cell_type": "code",
   "execution_count": 32,
   "metadata": {},
   "outputs": [],
   "source": [
    "from mudslide.integrators.velocity_verlet import VelocityVerletIntegrator\n",
    "from mudslide.system import System\n",
    "from mudslide.state import State\n",
    "from mudslide.forces.harmonic_bond_force import HarmonicBondForce\n",
    "force = HarmonicBondForce(\n",
    "    particle1=jnp.array([0]), \n",
    "    particle2=jnp.array([1]), \n",
    "    length=jnp.array([0.0]), \n",
    "    k=jnp.array([1.0]),\n",
    ")\n",
    "system = System(masses=jnp.array([1.0, 1.0]), forces=[force])\n",
    "integrator = VelocityVerletIntegrator(timestep=0.1)\n",
    "integrate = jax.jit(lambda state: integrator(100, state, system, key=jax.random.PRNGKey(0)))"
   ]
  },
  {
   "cell_type": "code",
   "execution_count": 33,
   "metadata": {},
   "outputs": [
    {
     "name": "stdout",
     "output_type": "stream",
     "text": [
      "61.1 μs ± 6.04 μs per loop (mean ± std. dev. of 7 runs, 10,000 loops each)\n"
     ]
    }
   ],
   "source": [
    "%%timeit\n",
    "state = State(jnp.array(X), jnp.array(V))\n",
    "state = integrate(state)\n",
    "jax.block_until_ready(state)"
   ]
  },
  {
   "cell_type": "code",
   "execution_count": null,
   "metadata": {},
   "outputs": [],
   "source": []
  }
 ],
 "metadata": {
  "kernelspec": {
   "display_name": "mudslide",
   "language": "python",
   "name": "python3"
  },
  "language_info": {
   "codemirror_mode": {
    "name": "ipython",
    "version": 3
   },
   "file_extension": ".py",
   "mimetype": "text/x-python",
   "name": "python",
   "nbconvert_exporter": "python",
   "pygments_lexer": "ipython3",
   "version": "3.12.4"
  }
 },
 "nbformat": 4,
 "nbformat_minor": 2
}
